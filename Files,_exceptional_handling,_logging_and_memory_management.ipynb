{
  "nbformat": 4,
  "nbformat_minor": 0,
  "metadata": {
    "colab": {
      "provenance": []
    },
    "kernelspec": {
      "name": "python3",
      "display_name": "Python 3"
    },
    "language_info": {
      "name": "python"
    }
  },
  "cells": [
    {
      "cell_type": "markdown",
      "source": [
        "# Files, exceptional handling,logging and memory management\n",
        "\n",
        "Q1: What is the difference between interpreted and compiled languages?\n",
        "\n",
        "Answer:\n",
        "\n",
        "Compiled languages are translated into machine code by a compiler before execution, making them faster (e.g., C, C++). Interpreted languages are executed line-by-line by an interpreter at runtime, making them easier to debug but generally slower (e.g., Python, JavaScript).\n",
        "\n",
        "Q2: What is exception handling in Python?\n",
        "\n",
        "Answer:\n",
        "\n",
        "Exception handling in Python is a way to handle errors that occur during program execution. It allows the program to continue running instead of crashing. Python uses try, except, else, and finally blocks to catch and handle exceptions.\n",
        "\n",
        "Q3: What is the purpose of the finally block in exception handling?\n",
        "\n",
        "Answer:\n",
        "\n",
        "The finally block in Python is used to execute code regardless of whether an exception occurs or not. It is typically used for cleanup actions like closing files or releasing resources.\n",
        "\n",
        "Q4: What is logging in Python?\n",
        "\n",
        "Answer:\n",
        "\n",
        "Logging in Python is the process of recording messages that describe events or errors during a program’s execution. It helps in debugging and monitoring the program. Python provides a built-in logging module for this purpose.\n",
        "\n",
        "Q5: What is the significance of the __del__ method in Python?\n",
        "\n",
        "Answer:\n",
        "\n",
        "The __del__ method in Python is a destructor method. It is called automatically when an object is about to be deleted, and is typically used to clean up resources like closing files or releasing memory.\n",
        "\n",
        "Q6: What is the difference between import and from ... import in Python?\n",
        "\n",
        "Answer:\n",
        "\n",
        "import loads the entire module, and you access functions or variables using the module name.\n",
        "\n",
        "but, from ... import loads specific functions or variables from a module, so you can use them directly.\n",
        "\n",
        "Q7: How can you handle multiple exceptions in Python?\n",
        "\n",
        "Answer:\n",
        "\n",
        "In Python, multiple exceptions can be handled by using separate except blocks for each exception type or by combining multiple exceptions in a single except block using parentheses.\n",
        "\n",
        "Q8: What is the purpose of the with statement when handling files in Python?\n",
        "\n",
        "Answer:\n",
        "\n",
        "The with statement in Python is used to handle files safely and efficiently. It ensures that the file is automatically closed after its block of code is executed, even if an error occurs.\n",
        "\n",
        "Q9: What is the difference between multithreading and multiprocessing?\n",
        "\n",
        "Answer:\n",
        "\n",
        "Multithreading uses multiple threads within a single process to perform tasks concurrently, sharing the same memory space. Multiprocessing uses multiple processes, each with its own memory, to run tasks in parallel. Multiprocessing is better for CPU-bound tasks, while multithreading is suited for I/O-bound tasks.\n",
        "\n",
        "Q10: What are the advantages of using logging in a program?\n",
        "\n",
        "Answer:\n",
        "\n",
        "Logging helps in tracking events, detecting errors, and debugging code. It provides useful information during development and after deployment, making it easier to monitor, maintain, and troubleshoot programs without interrupting their execution.\n",
        "\n",
        "Q11: What is memory management in Python?\n",
        "\n",
        "Answer:\n",
        "\n",
        "Memory management in Python refers to how Python handles the allocation and release of memory to objects during program execution. It includes automatic garbage collection, reference counting, and dynamic memory allocation to ensure efficient use of memory.\n",
        "\n",
        "Q12: What are the basic steps involved in exception handling in Python?\n",
        "\n",
        "Answer:\n",
        "\n",
        "The basic steps in exception handling in Python are:\n",
        "\n",
        "Try – Place the code that might raise an exception inside a try block.\n",
        "\n",
        "Except – Handle the exception using one or more except blocks.\n",
        "\n",
        "Else (optional) – Execute code if no exception occurs.\n",
        "\n",
        "Finally (optional) – Execute cleanup code that runs no matter what.\n",
        "\n",
        "Q13: Why is memory management important in Python?\n",
        "\n",
        "Answer:\n",
        "\n",
        "Memory management is important in Python to ensure efficient use of system resources. It helps prevent memory leaks, improves performance, and ensures that unused memory is automatically reclaimed, allowing programs to run smoothly and reliably.\n",
        "\n",
        "Q14: What is the role of try and except in exception handling?\n",
        "\n",
        "Answer:\n",
        "\n",
        "The try block is used to write code that may cause an exception, while the except block handles the error if it occurs. This prevents the program from crashing and allows it to continue running smoothly.\n",
        "\n",
        "Q15: How does Python's garbage collection system work?\n",
        "\n",
        "Answer:\n",
        "\n",
        "Python's garbage collection system automatically manages memory by freeing up space taken by objects that are no longer in use. It uses reference counting to track the number of references to each object and a cyclic garbage collector to detect and clean up groups of objects with circular references.\n",
        "\n",
        "Q16: What is the purpose of the else block in exception handling?\n",
        "\n",
        "Answer:\n",
        "\n",
        "The else block in exception handling is used to define code that should run only if no exception occurs in the try block. It helps separate normal code from error-handling code for better readability.\n",
        "\n",
        "Q17: What are the common logging levels in Python?\n",
        "\n",
        "Answer:\n",
        "\n",
        "The common logging levels in Python, from lowest to highest severity, are:\n",
        "\n",
        "DEBUG – Detailed information, mainly for debugging.\n",
        "\n",
        "INFO – General information about program execution.\n",
        "\n",
        "WARNING – Indicates a potential problem.\n",
        "\n",
        "ERROR – A serious problem that has caused a failure.\n",
        "\n",
        "CRITICAL – A severe error indicating that the program may not continue running.\n",
        "\n",
        "Q18: What is the difference between os.fork() and multiprocessing in Python?\n",
        "\n",
        "Answer:\n",
        "\n",
        "os.fork() creates a child process by duplicating the current process, but it is available only on Unix-based systems. The multiprocessing module provides a platform-independent way to create and manage multiple processes, with better support for communication and synchronization between them.\n",
        "\n",
        "Q19: What is the importance of closing a file in Python?\n",
        "\n",
        "Answer:\n",
        "\n",
        "Closing a file in Python is important because it frees up system resources, saves any changes made to the file, and ensures that data is properly written and not lost or corrupted.\n",
        "\n",
        "Q20: What is the difference between file.read() and file.readline() in Python?\n",
        "\n",
        "Answer:\n",
        "\n",
        "file.read() reads the entire content of a file as a single string, while file.readline() reads only one line from the file at a time.\n",
        "\n",
        "Q21: What is the logging module in Python used for?\n",
        "\n",
        "Answer:\n",
        "\n",
        "The logging module in Python is used to record messages about a program’s execution. It helps in tracking events, debugging, and monitoring errors by writing logs to the console or a file.\n",
        "\n",
        "Q22: What is the os module in Python used for in file handling?\n",
        "\n",
        "Answer:\n",
        "\n",
        "The os module in Python is used for interacting with the operating system. In file handling, it helps perform tasks like creating, deleting, renaming files and directories, and checking file paths or permissions.\n",
        "\n",
        "Q23: What are the challenges associated with memory management in Python?\n",
        "\n",
        "Answer:\n",
        "\n",
        "Challenges in memory management in Python include handling circular references, managing memory leaks due to unused objects, and ensuring efficient use of memory in large or long-running programs. Although Python has automatic garbage collection, developers still need to write memory-efficient code\n",
        "\n",
        "Q24: How do you raise an exception manually in Python?\n",
        "\n",
        "Answer:\n",
        "\n",
        "An exception can be raised manually in Python using the raise keyword followed by the exception type. This is useful for triggering errors when specific conditions are met in the code.\n",
        "\n",
        "Q25: Why is it important to use multithreading in certain applications?\n",
        "\n",
        "Answer:\n",
        "\n",
        "Multithreading is important in applications that perform multiple tasks at once, especially I/O-bound tasks like file reading or network operations. It improves efficiency, responsiveness, and resource usage by allowing different parts of a program to run concurrently."
      ],
      "metadata": {
        "id": "jW29b-hVVz3a"
      }
    },
    {
      "cell_type": "code",
      "execution_count": 49,
      "metadata": {
        "id": "z_LXSB8TVoIb",
        "colab": {
          "base_uri": "https://localhost:8080/"
        },
        "outputId": "213d8ce7-69ff-4231-8674-934ae2b94e7d"
      },
      "outputs": [
        {
          "output_type": "stream",
          "name": "stdout",
          "text": [
            "Hello, this is a test string.\n"
          ]
        }
      ],
      "source": [
        " #Q. How can you open a file for writing in Python and write a string to it\n",
        "\n",
        " # Open the file for writing and write a string\n",
        "with open(\"example.txt\", \"w\") as file:\n",
        "    file.write(\"Hello, this is a test string.\")\n",
        "\n",
        "# Open the file for reading and print its content\n",
        "with open(\"example.txt\", \"r\") as file:\n",
        "    content = file.read()\n",
        "    print(content)\n",
        "\n"
      ]
    },
    {
      "cell_type": "code",
      "source": [
        "#Q2. Write a Python program to read the contents of a file and print each line\n",
        "\n",
        "# Open the file in read mode\n",
        "file = open(\"example.txt\", \"r\")\n",
        "\n",
        "# Read and print each line\n",
        "for line in file:\n",
        "    print(line, end=\"\")  # end=\"\" prevents adding extra new lines\n",
        "\n",
        "# Close the file\n",
        "file.close()\n"
      ],
      "metadata": {
        "colab": {
          "base_uri": "https://localhost:8080/"
        },
        "id": "S1BRaVu5ZhU8",
        "outputId": "02938172-b249-4aa9-958a-3af264f55b25"
      },
      "execution_count": null,
      "outputs": [
        {
          "output_type": "stream",
          "name": "stdout",
          "text": [
            "Hello, this is a test string."
          ]
        }
      ]
    },
    {
      "cell_type": "code",
      "source": [
        "#Q3.  How would you handle a case where the file doesn't exist while\n",
        "# trying to open it for reading\n",
        "\n",
        "try:\n",
        "    file = open(\"nonexistent.txt\", \"r\")\n",
        "    print(file.read())\n",
        "    file.close()\n",
        "except FileNotFoundError:\n",
        "    print(\"Error: The file does not exist.\")\n"
      ],
      "metadata": {
        "colab": {
          "base_uri": "https://localhost:8080/"
        },
        "id": "jHs6jLgVZrrt",
        "outputId": "0d8f6e4c-5915-4417-949e-43f9c8d70eae"
      },
      "execution_count": null,
      "outputs": [
        {
          "output_type": "stream",
          "name": "stdout",
          "text": [
            "Error: The file does not exist.\n"
          ]
        }
      ]
    },
    {
      "cell_type": "code",
      "source": [
        "#Q4. Write a Python script that reads from one file and\n",
        "# writes its content to another file\n",
        "\n",
        "# Read from source file and write to destination file\n",
        "with open(\"example.txt\", \"r\") as source_file, open(\"destination.txt\", \"w\") as dest_file:\n",
        "    content = source_file.read()\n",
        "    dest_file.write(content)\n",
        "\n",
        "# Print content of source file\n",
        "print(\"Source file content:\")\n",
        "with open(\"example.txt\", \"r\") as source_file:\n",
        "    print(source_file.read())\n",
        "\n",
        "# Print content of destination file\n",
        "print(\"\\nDestination file content:\")\n",
        "with open(\"destination.txt\", \"r\") as dest_file:\n",
        "    print(dest_file.read())\n",
        "\n"
      ],
      "metadata": {
        "colab": {
          "base_uri": "https://localhost:8080/"
        },
        "id": "tZeGaPL1Z047",
        "outputId": "f3d841ae-c736-485d-c5b5-7c4884a3aaef"
      },
      "execution_count": null,
      "outputs": [
        {
          "output_type": "stream",
          "name": "stdout",
          "text": [
            "Source file content:\n",
            "Hello, this is a test string.This line will be added to the end of the file.\n",
            "This line will be added to the end of the file.\n",
            "\n",
            "\n",
            "Destination file content:\n",
            "Hello, this is a test string.This line will be added to the end of the file.\n",
            "This line will be added to the end of the file.\n",
            "\n"
          ]
        }
      ]
    },
    {
      "cell_type": "code",
      "source": [
        "#Q5. How would you catch and handle division by zero error in Python?\n",
        "\n",
        "try:\n",
        "    result = 10 / 0\n",
        "except ZeroDivisionError:\n",
        "    print(\"Error: Cannot divide by zero.\")\n"
      ],
      "metadata": {
        "colab": {
          "base_uri": "https://localhost:8080/"
        },
        "id": "3aQCeCp8ai4m",
        "outputId": "3e3b0d4b-5fda-46ef-e935-ec6bd1ed39a7"
      },
      "execution_count": null,
      "outputs": [
        {
          "output_type": "stream",
          "name": "stdout",
          "text": [
            "Error: Cannot divide by zero.\n"
          ]
        }
      ]
    },
    {
      "cell_type": "code",
      "source": [
        "#Q6.  Write a Python program that logs an error message to a log\n",
        "# file when a division by zero exception occurs\n",
        "\n",
        "import logging\n",
        "\n",
        "# Configure logging to write to a file\n",
        "logging.basicConfig(filename='error_log.txt', level=logging.ERROR,\n",
        "                    format='%(asctime)s - %(levelname)s - %(message)s')\n",
        "\n",
        "try:\n",
        "    # Code that may cause division by zero\n",
        "    result = 10 / 0\n",
        "except ZeroDivisionError:\n",
        "    logging.error(\"Attempted to divide by zero.\")\n"
      ],
      "metadata": {
        "colab": {
          "base_uri": "https://localhost:8080/"
        },
        "id": "WpZxNuFxaqKW",
        "outputId": "ad7412f3-1095-44dc-9579-8d640d81aa45"
      },
      "execution_count": null,
      "outputs": [
        {
          "output_type": "stream",
          "name": "stderr",
          "text": [
            "ERROR:root:Attempted to divide by zero.\n"
          ]
        }
      ]
    },
    {
      "cell_type": "code",
      "source": [
        "#Q7. How do you log information at different levels\n",
        " # (INFO, ERROR, WARNING) in Python using the logging module\n",
        "\n",
        "import logging\n",
        "\n",
        "# Configure logging\n",
        "logging.basicConfig(level=logging.DEBUG, format='%(levelname)s: %(message)s')\n",
        "\n",
        "logging.info(\"This is an info message.\")\n",
        "logging.warning(\"This is a warning message.\")\n",
        "logging.error(\"This is an error message.\")\n"
      ],
      "metadata": {
        "colab": {
          "base_uri": "https://localhost:8080/"
        },
        "id": "hOrWO_cwa3O7",
        "outputId": "5b5966ec-3a20-435c-f0c5-6268379a0a97"
      },
      "execution_count": null,
      "outputs": [
        {
          "output_type": "stream",
          "name": "stderr",
          "text": [
            "WARNING:root:This is a warning message.\n",
            "ERROR:root:This is an error message.\n"
          ]
        }
      ]
    },
    {
      "cell_type": "code",
      "source": [
        "#Q8. Write a program to handle a file opening error using exception handling\n",
        "\n",
        "try:\n",
        "    # Attempt to open a file that may not exist\n",
        "    file = open(\"nonexistent_file.txt\", \"r\")\n",
        "    content = file.read()\n",
        "    file.close()\n",
        "except FileNotFoundError:\n",
        "    print(\"Error: The file could not be found.\")\n"
      ],
      "metadata": {
        "colab": {
          "base_uri": "https://localhost:8080/"
        },
        "id": "MVmfFFWrbB0l",
        "outputId": "6911e49c-5757-4092-a13a-a0384206e667"
      },
      "execution_count": null,
      "outputs": [
        {
          "output_type": "stream",
          "name": "stdout",
          "text": [
            "Error: The file could not be found.\n"
          ]
        }
      ]
    },
    {
      "cell_type": "code",
      "source": [
        "#Q9.  How can you read a file line by line and\n",
        "# store its content in a list in Python\n",
        "\n",
        "# Read file line by line and store lines in a list\n",
        "lines = []\n",
        "with open(\"example.txt\", \"r\") as file:\n",
        "    for line in file:\n",
        "        lines.append(line.rstrip('\\n'))  # Remove trailing newline\n",
        "\n",
        "# Print the list of lines\n",
        "print(lines)\n",
        "\n"
      ],
      "metadata": {
        "colab": {
          "base_uri": "https://localhost:8080/"
        },
        "id": "fiErqSkibHrv",
        "outputId": "ab7eb9d6-ae3f-4cd0-a950-eb4660c65e34"
      },
      "execution_count": null,
      "outputs": [
        {
          "output_type": "stream",
          "name": "stdout",
          "text": [
            "['Hello, this is a test string.This line will be added to the end of the file.', 'This line will be added to the end of the file.']\n"
          ]
        }
      ]
    },
    {
      "cell_type": "code",
      "source": [
        "#Q10.  How can you append data to an existing file in Python?\n",
        "\n",
        "# Append data to the file\n",
        "with open(\"example.txt\", \"a\") as file:\n",
        "    file.write(\"This line is appended.\\n\")\n",
        "\n",
        "# Read and print the updated content\n",
        "with open(\"example.txt\", \"r\") as file:\n",
        "    content = file.read()\n",
        "    print(content)\n"
      ],
      "metadata": {
        "colab": {
          "base_uri": "https://localhost:8080/"
        },
        "id": "vp-z7mElbaow",
        "outputId": "9cf5b671-7f76-4174-9785-59949f6967cc"
      },
      "execution_count": null,
      "outputs": [
        {
          "output_type": "stream",
          "name": "stdout",
          "text": [
            "Hello, this is a test string.This line will be added to the end of the file.\n",
            "This line will be added to the end of the file.\n",
            "This line is appended.\n",
            "\n"
          ]
        }
      ]
    },
    {
      "cell_type": "code",
      "source": [
        "#Q11.  Write a Python program that uses a try-except\n",
        "#block to handle an error when attempting to access a\n",
        "# dictionary key that doesn't exist\n",
        "\n",
        "# Sample dictionary\n",
        "my_dict = {\"name\": \"Alice\", \"age\": 25}\n",
        "\n",
        "try:\n",
        "    # Attempt to access a non-existent key\n",
        "    value = my_dict[\"address\"]\n",
        "    print(\"Address:\", value)\n",
        "except KeyError:\n",
        "    print(\"Error: The key 'address' does not exist in the dictionary.\")\n"
      ],
      "metadata": {
        "colab": {
          "base_uri": "https://localhost:8080/"
        },
        "id": "Z9rpEPy1bbSx",
        "outputId": "d1e846a9-ad44-402e-cdbf-b3bce907acb1"
      },
      "execution_count": null,
      "outputs": [
        {
          "output_type": "stream",
          "name": "stdout",
          "text": [
            "Error: The key 'address' does not exist in the dictionary.\n"
          ]
        }
      ]
    },
    {
      "cell_type": "code",
      "source": [
        "#Q12. Write a program that demonstrates using multiple except\n",
        "# blocks to handle different types of exceptions\n",
        "\n",
        "try:\n",
        "    # Intentionally causing a ValueError and ZeroDivisionError\n",
        "    number = int(\"abc\")       # This will raise ValueError\n",
        "    result = 10 / 0           # This will raise ZeroDivisionError\n",
        "\n",
        "except ValueError:\n",
        "    print(\"Error: Invalid value. Could not convert to integer.\")\n",
        "\n",
        "except ZeroDivisionError:\n",
        "    print(\"Error: Cannot divide by zero.\")\n",
        "\n",
        "except Exception as e:\n",
        "    print(\"An unexpected error occurred:\", e)\n"
      ],
      "metadata": {
        "colab": {
          "base_uri": "https://localhost:8080/"
        },
        "id": "un1kfGVwb0ag",
        "outputId": "be9d077c-e051-47f7-eda1-fe63b08d4bc7"
      },
      "execution_count": null,
      "outputs": [
        {
          "output_type": "stream",
          "name": "stdout",
          "text": [
            "Error: Invalid value. Could not convert to integer.\n"
          ]
        }
      ]
    },
    {
      "cell_type": "code",
      "source": [
        "#Q13. How would you check if a file exists before attempting\n",
        "# to read it in Python\n",
        "\n",
        "import os\n",
        "\n",
        "if os.path.exists(\"example.txt\"):\n",
        "    print(\"File exists.\")\n",
        "else:\n",
        "    print(\"File does not exist.\")\n"
      ],
      "metadata": {
        "colab": {
          "base_uri": "https://localhost:8080/"
        },
        "id": "tah9P9T5b_rB",
        "outputId": "138e879c-b388-48ec-b2dd-877f0599fcf7"
      },
      "execution_count": null,
      "outputs": [
        {
          "output_type": "stream",
          "name": "stdout",
          "text": [
            "File exists.\n"
          ]
        }
      ]
    },
    {
      "cell_type": "code",
      "source": [
        "#Q14. Write a program that uses the logging module to\n",
        "# log both informational and error messages\n",
        "\n",
        "import logging\n",
        "\n",
        "# Configure logging to write to a file\n",
        "logging.basicConfig(filename='app.log', level=logging.DEBUG,\n",
        "                    format='%(asctime)s - %(levelname)s - %(message)s')\n",
        "\n",
        "# Log an informational message\n",
        "logging.info(\"Program started successfully.\")\n",
        "\n",
        "# Example operation with error handling\n",
        "try:\n",
        "    result = 10 / 0\n",
        "except ZeroDivisionError:\n",
        "    logging.error(\"Division by zero error occurred.\")\n",
        "\n",
        "# Another informational log\n",
        "logging.info(\"Program ended.\")\n"
      ],
      "metadata": {
        "colab": {
          "base_uri": "https://localhost:8080/"
        },
        "id": "-yGwM3hIcXkw",
        "outputId": "c78aac00-3f90-49e0-9986-d9c6f9eeeceb"
      },
      "execution_count": null,
      "outputs": [
        {
          "output_type": "stream",
          "name": "stderr",
          "text": [
            "ERROR:root:Division by zero error occurred.\n"
          ]
        }
      ]
    },
    {
      "cell_type": "code",
      "source": [
        "#Q15. Write a Python program that prints the content of a file and\n",
        "# handles the case when the file is empty\n",
        "\n",
        "try:\n",
        "    # Open the file in read mode\n",
        "    file = open(\"example.txt\", \"r\")\n",
        "    content = file.read()\n",
        "\n",
        "    if content.strip() == \"\":\n",
        "        print(\"The file is empty.\")\n",
        "    else:\n",
        "        print(\"File content:\")\n",
        "        print(content)\n",
        "\n",
        "    file.close()\n",
        "\n",
        "except FileNotFoundError:\n",
        "    print(\"Error: The file does not exist.\")\n"
      ],
      "metadata": {
        "colab": {
          "base_uri": "https://localhost:8080/"
        },
        "id": "-QXZNOhIcvII",
        "outputId": "d4430d55-a1e2-4b7a-ba6f-65e2ce7f7975"
      },
      "execution_count": null,
      "outputs": [
        {
          "output_type": "stream",
          "name": "stdout",
          "text": [
            "File content:\n",
            "Hello, this is a test string.This line will be added to the end of the file.\n",
            "This line will be added to the end of the file.\n",
            "This line is appended.\n",
            "\n"
          ]
        }
      ]
    },
    {
      "cell_type": "code",
      "source": [
        "#Q16.  Demonstrate how to use memory profiling to\n",
        "# check the memory usage of a small program\n",
        "\n",
        "import tracemalloc\n",
        "\n",
        "def create_list():\n",
        "    data = [i for i in range(1000000)]\n",
        "    return data\n",
        "\n",
        "# Start tracing memory allocations\n",
        "tracemalloc.start()\n",
        "\n",
        "# Run the function\n",
        "create_list()\n",
        "\n",
        "# Get the current memory usage\n",
        "current, peak = tracemalloc.get_traced_memory()\n",
        "\n",
        "print(f\"Current memory usage: {current / 10**6:.2f} MB\")\n",
        "print(f\"Peak memory usage: {peak / 10**6:.2f} MB\")\n",
        "\n",
        "# Stop tracing\n",
        "tracemalloc.stop()\n",
        "\n"
      ],
      "metadata": {
        "colab": {
          "base_uri": "https://localhost:8080/"
        },
        "id": "4kugHR6ldA8F",
        "outputId": "07236051-a58c-44b6-c4dd-e45a027b40db"
      },
      "execution_count": null,
      "outputs": [
        {
          "output_type": "stream",
          "name": "stdout",
          "text": [
            "Current memory usage: 0.01 MB\n",
            "Peak memory usage: 40.46 MB\n"
          ]
        }
      ]
    },
    {
      "cell_type": "code",
      "source": [
        "#Q17. Write a Python program to create and write a\n",
        "# list of numbers to a file, one number per line\n",
        "\n",
        "# List of numbers\n",
        "numbers = [1, 2, 3, 4, 5]\n",
        "\n",
        "# Write numbers to the file\n",
        "with open(\"numbers.txt\", \"w\") as file:\n",
        "    for number in numbers:\n",
        "        file.write(str(number) + \"\\n\")\n",
        "\n",
        "# Read and print the file content\n",
        "with open(\"numbers.txt\", \"r\") as file:\n",
        "    content = file.read()\n",
        "    print(\"File contents:\")\n",
        "    print(content)\n"
      ],
      "metadata": {
        "colab": {
          "base_uri": "https://localhost:8080/"
        },
        "id": "nwrgvW7sd--O",
        "outputId": "e3d4c693-4e5f-4c33-c10f-a640dc889873"
      },
      "execution_count": null,
      "outputs": [
        {
          "output_type": "stream",
          "name": "stdout",
          "text": [
            "File contents:\n",
            "1\n",
            "2\n",
            "3\n",
            "4\n",
            "5\n",
            "\n"
          ]
        }
      ]
    },
    {
      "cell_type": "code",
      "source": [
        "#@18. How would you implement a basic logging setup\n",
        "# that logs to a file with rotation after 1MB\n",
        "\n",
        "import logging\n",
        "from logging.handlers import RotatingFileHandler\n",
        "\n",
        "# Create logger\n",
        "logger = logging.getLogger(\"MyLogger\")\n",
        "logger.setLevel(logging.DEBUG)\n",
        "\n",
        "# Create a rotating file handler (max 1MB, keep 3 backups)\n",
        "handler = RotatingFileHandler(\"app.log\", maxBytes=1_000_000, backupCount=3)\n",
        "handler.setLevel(logging.DEBUG)\n",
        "\n",
        "# Create a formatter and set it for the handler\n",
        "formatter = logging.Formatter('%(asctime)s - %(levelname)s - %(message)s')\n",
        "handler.setFormatter(formatter)\n",
        "\n",
        "# Add handler to the logger\n",
        "logger.addHandler(handler)\n",
        "\n",
        "# Example logs\n",
        "logger.info(\"This is an info message.\")\n",
        "logger.error(\"This is an error message.\")\n"
      ],
      "metadata": {
        "colab": {
          "base_uri": "https://localhost:8080/"
        },
        "id": "ZQFCwuEgeQH0",
        "outputId": "445b7e57-accb-4e4c-a4c0-bb1d80169903"
      },
      "execution_count": null,
      "outputs": [
        {
          "output_type": "stream",
          "name": "stderr",
          "text": [
            "INFO:MyLogger:This is an info message.\n",
            "ERROR:MyLogger:This is an error message.\n"
          ]
        }
      ]
    },
    {
      "cell_type": "code",
      "source": [
        "#Q19. Write a program that handles both IndexError and\n",
        "# KeyError using a try-except block\n",
        "\n",
        "my_list = [1, 2, 3]\n",
        "my_dict = {\"a\": 10, \"b\": 20}\n",
        "\n",
        "try:\n",
        "    # Accessing an invalid index in the list\n",
        "    print(my_list[5])\n",
        "\n",
        "    # Accessing a non-existent key in the dictionary\n",
        "    print(my_dict[\"c\"])\n",
        "\n",
        "except IndexError:\n",
        "    print(\"Error: List index out of range.\")\n",
        "\n",
        "except KeyError:\n",
        "    print(\"Error: Key not found in dictionary.\")\n"
      ],
      "metadata": {
        "colab": {
          "base_uri": "https://localhost:8080/"
        },
        "id": "ZtiLD0etek79",
        "outputId": "c1f44b32-1334-45df-a541-839916e680c3"
      },
      "execution_count": null,
      "outputs": [
        {
          "output_type": "stream",
          "name": "stdout",
          "text": [
            "Error: List index out of range.\n"
          ]
        }
      ]
    },
    {
      "cell_type": "code",
      "source": [
        "#Q20.  How would you open a file and read its contents\n",
        "# using a context manager in Python\n",
        "\n",
        "with open(\"example.txt\", \"r\") as file:\n",
        "    content = file.read()\n",
        "    print(content)\n"
      ],
      "metadata": {
        "colab": {
          "base_uri": "https://localhost:8080/"
        },
        "id": "SeehTEDle1Nn",
        "outputId": "6d7a01dd-7918-45cb-8e96-43f31a55a372"
      },
      "execution_count": null,
      "outputs": [
        {
          "output_type": "stream",
          "name": "stdout",
          "text": [
            "Hello, this is a test string.This line will be added to the end of the file.\n",
            "This line will be added to the end of the file.\n",
            "This line is appended.\n",
            "\n"
          ]
        }
      ]
    },
    {
      "cell_type": "code",
      "source": [
        "#Q21. Write a Python program that reads a file and\n",
        "# prints the number of occurrences of a specific word\n",
        "\n",
        "# Specify the word to count\n",
        "word_to_count = \"python\"\n",
        "\n",
        "# Open and read the file\n",
        "with open(\"example.txt\", \"r\") as file:\n",
        "    content = file.read()\n",
        "\n",
        "# Count occurrences (case-insensitive)\n",
        "count = content.lower().split().count(word_to_count.lower())\n",
        "\n",
        "print(f\"The word '{word_to_count}' occurs {count} times in the file.\")\n"
      ],
      "metadata": {
        "colab": {
          "base_uri": "https://localhost:8080/"
        },
        "id": "SJNlCVTVe-7w",
        "outputId": "a0c86325-5cf9-40bb-e9fa-dfb0d5d560f0"
      },
      "execution_count": null,
      "outputs": [
        {
          "output_type": "stream",
          "name": "stdout",
          "text": [
            "The word 'python' occurs 0 times in the file.\n"
          ]
        }
      ]
    },
    {
      "cell_type": "code",
      "source": [
        "#Q22. How can you check if a file is empty before\n",
        "# attempting to read its contents\n",
        "\n",
        "import os\n",
        "\n",
        "filename = \"example.txt\"\n",
        "\n",
        "if os.path.getsize(filename) > 0:\n",
        "    with open(filename, \"r\") as file:\n",
        "        content = file.read()\n",
        "        print(content)\n",
        "else:\n",
        "    print(\"The file is empty.\")\n"
      ],
      "metadata": {
        "colab": {
          "base_uri": "https://localhost:8080/"
        },
        "id": "pWWjj27jfMEE",
        "outputId": "64f162b3-ca91-4b18-cbc0-b4567220aa54"
      },
      "execution_count": null,
      "outputs": [
        {
          "output_type": "stream",
          "name": "stdout",
          "text": [
            "Hello, this is a test string.This line will be added to the end of the file.\n",
            "This line will be added to the end of the file.\n",
            "\n"
          ]
        }
      ]
    },
    {
      "cell_type": "code",
      "source": [
        "#Q23.  Write a Python program that writes to a log file when an\n",
        "# error occurs during file handling\n",
        "\n",
        "import logging\n",
        "\n",
        "# Configure logging to write to a file\n",
        "logging.basicConfig(filename='file_error.log', level=logging.ERROR,\n",
        "                    format='%(asctime)s - %(levelname)s - %(message)s')\n",
        "\n",
        "try:\n",
        "    # Try to open a file that may not exist\n",
        "    with open('nonexistent_file.txt', 'r') as file:\n",
        "        content = file.read()\n",
        "except Exception as e:\n",
        "    logging.error(f\"An error occurred while handling the file: {e}\")\n"
      ],
      "metadata": {
        "colab": {
          "base_uri": "https://localhost:8080/"
        },
        "id": "2WuiYT6IfVxZ",
        "outputId": "29eb7b7a-17b6-4468-8f0e-803fa21f984d"
      },
      "execution_count": null,
      "outputs": [
        {
          "output_type": "stream",
          "name": "stderr",
          "text": [
            "ERROR:root:An error occurred while handling the file: [Errno 2] No such file or directory: 'nonexistent_file.txt'\n"
          ]
        }
      ]
    }
  ]
}